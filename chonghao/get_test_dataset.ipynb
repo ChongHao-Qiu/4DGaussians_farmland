{
 "cells": [
  {
   "cell_type": "code",
   "execution_count": 2,
   "metadata": {},
   "outputs": [
    {
     "name": "stderr",
     "output_type": "stream",
     "text": [
      "Processing Frames: 100%|██████████| 300/300 [00:09<00:00, 32.65it/s]"
     ]
    },
    {
     "name": "stdout",
     "output_type": "stream",
     "text": [
      "✅ 数据整理完成！共处理 300 个时间帧，存放于 ../data/dytime/cook_spinach\n"
     ]
    },
    {
     "name": "stderr",
     "output_type": "stream",
     "text": [
      "\n"
     ]
    }
   ],
   "source": [
    "import os\n",
    "import shutil\n",
    "from tqdm import tqdm\n",
    "\n",
    "# 原始数据路径（按相机编号组织）\n",
    "read_path = \"../data/dynerf/cook_spinach\"\n",
    "\n",
    "# 目标存储路径（按时间帧组织）\n",
    "save_path = \"../data/dytime/cook_spinach\"\n",
    "\n",
    "# 最大时间帧数量\n",
    "# MAX_FRAMES = 100\n",
    "\n",
    "# 确保目标路径存在\n",
    "os.makedirs(save_path, exist_ok=True)\n",
    "\n",
    "# 获取所有相机文件夹（cam00 - camXX）\n",
    "cam_folders = [f for f in sorted(os.listdir(read_path)) if f.startswith(\"cam\")]\n",
    "\n",
    "# 遍历相机文件夹，找到所有时间帧\n",
    "time_frames = set()\n",
    "\n",
    "for cam in cam_folders:\n",
    "    cam_path = os.path.join(read_path, cam, \"images\")  # 进入 images 目录\n",
    "    if os.path.exists(cam_path):\n",
    "        images = sorted(os.listdir(cam_path))\n",
    "        for img in images:\n",
    "            time_frames.add(img)  # 记录所有时间帧\n",
    "\n",
    "# 排序时间帧，并限制最多 100 个\n",
    "time_frames = sorted(time_frames)\n",
    "\n",
    "# 遍历时间帧，创建 timeXXXX 目录并复制相应的图像\n",
    "for idx, frame in enumerate(tqdm(time_frames, desc=\"Processing Frames\")):\n",
    "    time_folder = os.path.join(save_path, f\"time{str(idx+1).zfill(4)}\")\n",
    "    os.makedirs(time_folder, exist_ok=True)  # 创建时间帧文件夹\n",
    "\n",
    "    # 遍历相机文件夹，把相应帧的图像放入时间文件夹\n",
    "    for cam in cam_folders:\n",
    "        cam_path = os.path.join(read_path, cam, \"images\")  # 进入 images 目录\n",
    "        img_path = os.path.join(cam_path, frame)\n",
    "\n",
    "        if os.path.exists(img_path):\n",
    "            new_img_name = f\"{cam}.png\"  # 重命名相机图片\n",
    "            shutil.copy(img_path, os.path.join(time_folder, new_img_name))\n",
    "\n",
    "print(f\"✅ 数据整理完成！共处理 {len(time_frames)} 个时间帧，存放于 {save_path}\")\n"
   ]
  }
 ],
 "metadata": {
  "kernelspec": {
   "display_name": "Gaussians4D",
   "language": "python",
   "name": "python3"
  },
  "language_info": {
   "codemirror_mode": {
    "name": "ipython",
    "version": 3
   },
   "file_extension": ".py",
   "mimetype": "text/x-python",
   "name": "python",
   "nbconvert_exporter": "python",
   "pygments_lexer": "ipython3",
   "version": "3.7.12"
  }
 },
 "nbformat": 4,
 "nbformat_minor": 2
}
